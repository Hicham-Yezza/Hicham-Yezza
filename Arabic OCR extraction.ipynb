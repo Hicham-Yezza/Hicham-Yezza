{
  "nbformat": 4,
  "nbformat_minor": 0,
  "metadata": {
    "colab": {
      "provenance": [],
      "authorship_tag": "ABX9TyPz+B+nmAhwQYgB8yfUrju8",
      "include_colab_link": true
    },
    "kernelspec": {
      "name": "python3",
      "display_name": "Python 3"
    },
    "language_info": {
      "name": "python"
    }
  },
  "cells": [
    {
      "cell_type": "markdown",
      "metadata": {
        "id": "view-in-github",
        "colab_type": "text"
      },
      "source": [
        "<a href=\"https://colab.research.google.com/github/Hicham-Yezza/Hicham-Yezza/blob/main/Arabic%20OCR%20extraction.ipynb\" target=\"_parent\"><img src=\"https://colab.research.google.com/assets/colab-badge.svg\" alt=\"Open In Colab\"/></a>"
      ]
    },
    {
      "cell_type": "code",
      "source": [
        "# Arabic OCR - Hicham Yezza - April 2024"
      ],
      "metadata": {
        "id": "eVEoicT0NmgZ"
      },
      "execution_count": null,
      "outputs": []
    },
    {
      "cell_type": "code",
      "source": [
        "# Install necessary packages\n",
        "!sudo apt install tesseract-ocr\n",
        "!pip install pytesseract"
      ],
      "metadata": {
        "id": "MV42tY6QNrhI"
      },
      "execution_count": null,
      "outputs": []
    },
    {
      "cell_type": "code",
      "source": [
        "# Install necessary package for Arabic OCR\n",
        "!sudo apt-get install tesseract-ocr-ara"
      ],
      "metadata": {
        "id": "NUUmrT3lPA0Y"
      },
      "execution_count": null,
      "outputs": []
    },
    {
      "cell_type": "code",
      "source": [
        "!ls /usr/share/tesseract-ocr/4.00/tessdata/"
      ],
      "metadata": {
        "colab": {
          "base_uri": "https://localhost:8080/"
        },
        "id": "8XcTf3CEPGL1",
        "outputId": "3b3396bc-f118-44c8-d314-098266c31b06"
      },
      "execution_count": null,
      "outputs": [
        {
          "output_type": "stream",
          "name": "stdout",
          "text": [
            "ara.traineddata  configs  eng.traineddata  osd.traineddata  pdf.ttf  tessconfigs\n"
          ]
        }
      ]
    },
    {
      "cell_type": "code",
      "source": [
        "import pytesseract\n",
        "from PIL import Image\n",
        "from google.colab import files"
      ],
      "metadata": {
        "id": "Dd6izzBiNrpn"
      },
      "execution_count": null,
      "outputs": []
    },
    {
      "cell_type": "code",
      "source": [
        "# Upload multiple image files\n",
        "uploaded = files.upload()"
      ],
      "metadata": {
        "id": "-Trxq_x7QmCV"
      },
      "execution_count": null,
      "outputs": []
    },
    {
      "cell_type": "code",
      "source": [
        "# Perform OCR on each uploaded image\n",
        "for file_name, file_data in uploaded.items():\n",
        "    print(f\"Processing file: {file_name}\")\n",
        "    image = Image.open(file_name)\n",
        "    text = pytesseract.image_to_string(image, lang='ara')\n",
        "    print(f\"Extracted Text from {file_name}:\")\n",
        "    print(text)\n",
        "    print('-' * 80)  # Just a separator for better readability"
      ],
      "metadata": {
        "colab": {
          "base_uri": "https://localhost:8080/"
        },
        "id": "w8jUXkniQxS-",
        "outputId": "c17e9766-cbe0-487e-e7c7-04f346459dba"
      },
      "execution_count": null,
      "outputs": [
        {
          "output_type": "stream",
          "name": "stdout",
          "text": [
            "Processing file: WhatsApp Image 2024-04-14 at 11.30.31 (1).jpeg\n",
            "Extracted Text from WhatsApp Image 2024-04-14 at 11.30.31 (1).jpeg:\n",
            "- الجمهورية الجزائرية الديمقراطية الشعبية\n",
            "0 باسم الشعب الجزائري اه\n",
            "\n",
            "2\n",
            "قرار يا\n",
            "\n",
            "الفرفسة: التجارية / البحرية\n",
            "\n",
            "0 إن مجلس قضاء الجزائر بجلسته العطلنية المنعقدة بقاعة الجلسات لقصر العدالة\n",
            "09/021571 فى الخامسل من شهار سآ قنة رش( تسمه\n",
            "رقم الفهرس: 09/04015 2 برئاسة المسيد (106 اوديئة الوزية 5\n",
            "جلسه 5\n",
            "جلسة يوم: 09/05/05 0 00\n",
            ": أوشان منصور مستشارا\n",
            "5): نعيجاوي جمال نائب عام\n",
            "وبمساعدة السيد (5): جواجة عبد الحميد أمين ضبط\n",
            "\n",
            "1 صدر القرار الآتي بيانه في القضية المنشورة لديه تحت رقم09/0215\n",
            "العياضي وزناجي ب\n",
            "1 )زلعياضي_وزناجي ‎١‏ متلق\n",
            "العنوان : الساكن / بتجزئة الثانوية رقم 5 الرويبة الجزائر\n",
            "ل فلن المباشر للخصام بواسطة الأستاذ (): بن عمران ناصرالدين\n",
            "\n",
            "ضصدعم\n",
            "\n",
            "1 ): أوغليسي الحميد مستانف عليه\n",
            "العنوان : الساكن بحي الصومام عمارة 13 س رقم 10 باب الزوار\n",
            "المباشرللخصام بواسطة الأستاذ (5): باشي محمد\n",
            "\n",
            "** بين وقانع الدعوى **\n",
            "\n",
            "- بموجب عريضة مسجلة بكتابة ضبط المجلس بتاريخ 2009/03/03 تحت رقم 09/2157\n",
            "قدم السيد لعياضي وزناجي بواسطة محاميه الأستاذ بن عمران ناصر الدين طعنا بالإستئناف ة\n",
            "\"الحكم الصادر عن الفرع التجاري لمحكمة الحراش في 2008/10/07 تحت رقم 08/4013\n",
            "القاضي برفض الدعوى لعدم التأسيس مكلفا لهذا الإجراء للسيد أوغليسي الحميد.\n",
            "\n",
            "- جاء بعريضته تأسيسه والمستائف عليه لشركة ذات مسؤولية محدودة المسماة شركة التكوين\n",
            "تحليل ظروف العمل بموجب عقد تا. ي في 1999/11/10 تنشط في مجال إنجاز\n",
            "\n",
            "تقنية لتحسين ظروف العمل بد أنشاطها منذ تاريخ\n",
            "د ة معتبرة على نشاط الشركة وقعت نزاعات فيما بين الطرفين\n",
            "قضائية حالت دون عقد إجتماعات بينهما ودون السير العادى للشركة وهي متوقفة عن\n",
            "اطها منذ 2001 بداية النزاع بينهما وإلى يومنا هذا .\n",
            "\n",
            "د وعلى عكس ماذهب إليه قاضي الدرجة الاولى فإنه مؤسس في إلتماس حل الشركة طبقا للمادة\n",
            "589 و 705 قءت واحكام المادتين 25 و 26 من القانون الأساسي للشركة والأسباب المذكورة\n",
            "أعلاه مبزرة وكافية لحل الشركة ولم يبد المستائف عليه امام المحكمة معارضته على طلب حلي\n",
            "ملتمسا إثبات له حججه وبالتالي إلغاء الحكم المستانف والقضاء من جديد بالقضاء بحل الشركة\n",
            "المشار لها أعلاه و أي مصفي من غير الشركاء تسند له مهمة تصفية الشركة وكل الأعمال\n",
            "التى تتصل بالتصفية طبقا لأحكام القانون التجاري والقانون الأساسي للشركة ولا سيما المادة 26\n",
            "امنه\n",
            "- وأجاب المستانف عليه بواسطة محاميه الاستاذ باشي محمد دافعا أنه لمخالفة المستانف شروط\n",
            "\n",
            ": : 09/002157 0\n",
            "الفهرس: 09/04015 صفحة 1 من 4\n",
            "\n",
            " \n",
            "\f\n",
            "--------------------------------------------------------------------------------\n",
            "Processing file: WhatsApp Image 2024-04-14 at 11.30.32 (1) (1).jpeg\n",
            "Extracted Text from WhatsApp Image 2024-04-14 at 11.30.32 (1) (1).jpeg:\n",
            "- وحيث ثابت من عناصر ووسائل قضية الحال وجود سوء تفاهم فيما بين الشركاء يحول دون\n",
            "إستمرارها لمنازعة المستائف عليه في تسيير المستانف للشركة كما يتبين مرا محكر الحمعدة\n",
            "العامة العادية للشركة ليوم 2001/07/16 المتضمن عدم إستجابة المستانف مسير الشركة\n",
            "للتوصيات التى جاءت بمحضر إجتماع الجمعية المذكورة ليوم 2001/06/28 فضلا على\n",
            "تنازعهما قضائيا إذ نازع المستائف عليه في طريقة تسيير الشركة وأسفرت دعواه إلى صدور\n",
            "حكم عن الفرع التجاري لمحكمة الحراش في 2006/07/03 تحت رقم 05/4988 القاضي\n",
            "بالمصادقة على الخبرة المنجزة من طرف الخبير عصاد عبد الكريم إفراغا للحكمين التمهيدين\n",
            "الصادران في 2002/10/21 و 2004/12/27 وبالزام المدعى عليه أي المستائف الحالي\n",
            "بصفته مسير شركة أفاكت بأن يدفع للمدعي أي المستانف عليه الحالي شريكه تعويض عن كل\n",
            "التجاوزات قدره : 4:179.310 دج تم الغائه بموجب قرار صادر عن غرفة الحال في , .. .\n",
            "6 تحت رقم 06/5411 والقضاء من جديد بالمصادقة على تقرير الخبرة المنجز\n",
            "من طرف الخبير عصاد عبد الكريم في 2003/12/22 وإلزام المستانف أي المستأنف عليه\n",
            "الحالي بدفعه مبلغ 4.179.310 دج لفائدة شركة الطرفين \" أفاكت\" .\n",
            "- حيث أن تنازع الشريكين إلى حد التماس أحدهما أي المستأنف عليه في حق الآخر ‏ _\n",
            "\" المستائف \" إثبات تجاوز في التسيير بتدخل القضاء يفيذ عدم أمكانية إستمرارية الشركة بهما\n",
            "تخوفات المستأنف عليه التي يدفع من خلالها بأن قضية الحال سابقة لأوانها قبل إدراج المبلغ\n",
            "المحكوم به على المستانف في حساب الشركة وبآن الهدف من طلب حل الشركة هو التهرب من\n",
            "تنفيذ القرار القضائي المشار له أعلاه تخوفات غير مبررة إذ يكون طلب حل الشركة سابق لأوانه\n",
            "في الحالة التي تكون دعوى منازعة التسيير المشار لها أعلاه غير مفصول فيها إلا أن الأمر غير\n",
            "ذلك إذ تم الفصل فيها كما ورد أعلاه بقرار قضائي نهائي تحوز الشركة بناءا على ذلك على سند\n",
            "دين نهائي تنفيذى تجاه المستانف الحالي المدين بالمبلغ المحكوم به بموجبه تجاه الشركة أفاكت\n",
            "الدائنة به يمكن تحصيله في نطاق تنفيده ولو لم يتم ذلك قبل الطلب موضوع قضية الحال وذلك\n",
            "من طرف مصفبيها باعتباره حق مكتسب للشركة إزاء المدين أي المستأنف ولايحول حل الشركة\n",
            "دون امكانية تنفيذ سند الدين التنفيذي الذي يجعل ذلك المبلغ يدخل في ذمتها المالية حيث لكل\n",
            "1 استكرره للقي امسلل لحك المستائف مل القضاء من جديد بحن اذكه 111\n",
            "أعلاه مع تعيين مصفى لها تسند له مهمة تصفيتها بعد حصر ديونها تحصيلها ولاسيما الدين\n",
            "الواقع في ذمة المستأنف إزاءها تنفيذا للقرار المذكور أعلاه وحقوقها تحديد نصيب كلا الطرفين\n",
            "في نطاق تلك التصفية ,\n",
            "ا ل\n",
            "ع ل ذه الأ 4 أ قله\n",
            "فصلا في القضايا التجارية علنيا حضوريا نهائيا .\n",
            "5\n",
            "في الشكل : بقبول الاستئناف .\n",
            "في الموضوع : بإلغاء الحكم المستأنف الصادر عن محكمة الحراش في 2008/10/07 تحت\n",
            "بحر رقم 08/4013 والقضاء من جديد بحل الشركة ذات المسؤولية المحدودة المسماة شركة للتكوين\n",
            "(/ وتحليل ظروف العمل \" أفاكت \" وقبل الفصل في الموضوع تعيين الخبير حدادي ابراهيم في\n",
            "أ المحاسبة كائن مقره ب 06 شارع على بوزيري الجزائر كمصفي للشركة قيامه باستدعاء\n",
            "‎١‏ الطرفين الإطلاع على وثائقهما من أجل تصفيتها بعد حصر ديونها وتحصيلها تحديدها وحصر\n",
            "أحقوقها تحديد نصيب كل واحد من الطرفين الشريكين فيها في نطاق تلك التصفية وللمصفي\n",
            "الخبير ثلاتة أشهر لإيداع تقرير خبرته بكتابة ضبط المجلس بالمهمة المذكورة اعتبارا من تاريخ\n",
            "إتصاله علما بالقرار الحالي مع إمكانية تجاوز تلك المهلة إذا إقتضت التصفية مهلة تتعداها .\n",
            "والمصاريف القضائية محفوظة.\n",
            "- بذا صدر القرار و أفصح به في الجلسة العلنية المنعقدة في اليوم والشهر والسنة المذكورين\n",
            "اعلاه ؛ وعلى صحة ماذكر امضى أصل القرار كل من الرئيسة والمستشار المقرروكاتب\n",
            "كك\n",
            "بل لوس 0904015 صفحة 3 من 4\n",
            "\n",
            " \n",
            "\f\n",
            "--------------------------------------------------------------------------------\n",
            "Processing file: WhatsApp Image 2024-04-14 at 11.30.32 (2).jpeg\n",
            "Extracted Text from WhatsApp Image 2024-04-14 at 11.30.32 (2).jpeg:\n",
            "١\n",
            "\n",
            "رقم الجدول: 09/02157\n",
            "رقم الفهرس: 09/04015\n",
            "\n",
            "تسيير الشركة وإرتكابه تجاوزات في استيلائه على أموال الشركة لحسابه الخاص رافعه هو من\n",
            "أجل تعيين خبير في الحسابات لتحديد الوضعية المالية الشركة وصدر حكم تحت رقم\n",
            "6 بتعيين الخبير عصاد عبد الكريم أسندت له تلك المهمة وأنجز الخبير تقرير خبرته\n",
            "متوصلا إلى تجاوزات بلغت قيمتها 4.173.310 دج تمت المصادقة على تلك الخبرة بحكم\n",
            "3 تحت رقم 8 مع الزام المستانف بصفته مسير الشركة بأن يدفع\n",
            "للمستأنف عليه المبلغ المذكور نصيبه في الشركة وعن كافة الأضرار اللاحقة به نتيجة تلك\n",
            "التجاوزات تم تأييده جزئيا على مستوى الجهة الإستئنافٍ بالزام المستانف بذلك المبلغ لفائدة\n",
            "الشركة وطلب حلها قبل إدراج ذلك المبلغ في حساب الشركة طلب سابق لأوانه لايتسنى إلا بعد\n",
            "تنفيذ ذلك الحكم وبالتالي الطلب موضوع قضية الحال الغرض منه التهرب من ذلك التنفيذ كما لم\n",
            "يثبت المستانف بصفته مسير الشركة إشهار محاضر إجتماع مجلس الإدارة ليتبين منه عرض\n",
            "طلب حل الشركة وتصفيتها ولاسيما وأنه قد طالب هو في محضر الإجتماع ليوم\n",
            "6 مدن المستانف تعيين مراقب الحسابات لتقييم ميزانية السنة المالية ولم يقم\n",
            "المستانف بتعيين محافظ الحسابات ولامراقب الحسابات لتوضيح إن كانت الشركة قد تعرضت\n",
            "لخسارة ثلاثة أرباع رأسمالها لتبرير طلب حلها كما هو منصوص عليه قانونا وفي قانونها\n",
            "الأسائدق /\n",
            "- وبالتالي يدفع بتأييد الحكم المستأنف في جميع مقتضياته وتمسك الطرفين كلاهما بحججه\n",
            "وسائله ودفوعه وباكتفائهما تم قفل باب المرافعات مع وضع القضية في المرافعة ثم في المداولة\n",
            "ليفصح عنها بالقرار الآتي بيانه.\n",
            "\n",
            "** وعليه فإن المجلس **\n",
            "- بعد الإطلاع على تصريحات الطرفين وعلى وسائل الإجراء\n",
            "- بعد الإستماع إلى السيدة بايو خلفاوي سهيلة المستشارة المقررة في تلاوة تقريرها المكتوب.\n",
            "- بعد الإطلاع على أحكام قانون الإجراءات المدنية وأحكام القانون التجاري.\n",
            "- بعد الإطلاع على إلتماسات ممثل النيابة العامة.\n",
            "- بعد المداولة قانونا.\n",
            "حل الشكل : حيث إستوفت عريضة الإجراء أوضاعه القانونية كما يستشف من محضر\n",
            "التبليغ المؤرخ في 3 خضوع الحكم المستانف لإجراء تبليغه للمستانف بذلك\n",
            "التاريخ بما يجعل تقديمه لطعنه بالإستئناف الحالي فيه بتاريخ 2009/03/03 قد تم في نطاق\n",
            "الأجل المحدد له قانونا وبالتالي مقبول شكلا .\n",
            "- من حيث الموضوع:\n",
            "حيث أسفرت حجج | تأنف وإلتماساته أمام قاضي الدرجة الأولى عن صدور عن الفرع\n",
            "التجاري لمحكمة الحراش لحكم في 2008/10/07 تحت رقم 08/4013 وهو الحكم المستانف\n",
            "القاضي برفض الدعوى لعدم التأسيس.\n",
            "- حيث يتبين من المرفقات تأسيس الطرفين لشركة ذات مسؤولية محدودة مسماة بإختصار\n",
            "\" أفاكت \" موضوعها إنجاز خذمات تتعلق بالتكوين في مجال تحسين ظروف الشغل\n",
            "تسميتها شركة التكوين وتحليل ظروف العمل كما يتبين من عقدها التأسيسى المحرر بمكتب\n",
            "الموثق الأستاذ عبد الحميد عشيطا هني في 1999/11/10 بدأ نشاطها في 1999/12/15\n",
            "\n",
            "ا وأسند تسييرها للمستائف .\n",
            "\n",
            "- كما يتبين من سجلها التجاري رقم 99 ,ب 0010423 حيث بينما يتمسك المستانف بحل\n",
            "الشركة يتمسك المستانف عليه بعكس ذلك و لكلاهما حججه ووسائله .\n",
            "\n",
            "- وحيث صحيح بأن حل الشركة ذات المسؤولية المحدودة يتم في حالة خسارة ثلاثة أرباع\n",
            "رأسمالها مع إلزاميةالقيام بالإجراءات المنصوص عليها بالمادة 589 ق.ت في فقرتها الثانية إلا\n",
            "أن ذلك يتعلق بالحل الغير قضائي وعدم إمكانية القيام بتلك الإجراءات وعدم تمكن الشركاء من\n",
            "المداولة على الوجه الصحيح يجيز لكل من يهمه الأمر أن يطلب حل الشركة أمام القضاء كما\n",
            "جاء بالفقرة الأخيرة من نفس المادة التى لم تقيد القضاء باي شرط منصوص عليه قانونا للقضاء\n",
            "بذلك الحل وإنما ذلك متروك للسلطة التقديرية للقضاة المستمدة من عناصر ووسائل الطلب .\n",
            "\n",
            "صفحة 2 من 4\n",
            "\n",
            " \n",
            "\n",
            " \n",
            "\f\n",
            "--------------------------------------------------------------------------------\n",
            "Processing file: WhatsApp Image 2024-04-14 at 11.30.33 (1).jpeg\n",
            "Extracted Text from WhatsApp Image 2024-04-14 at 11.30.33 (1).jpeg:\n",
            "رقم الجدول: 09/02157\n",
            "رقم الفهرس: 09/04015\n",
            "\n",
            " \n",
            "\f\n",
            "--------------------------------------------------------------------------------\n"
          ]
        }
      ]
    },
    {
      "cell_type": "code",
      "source": [
        "# Optional: Save all extracted texts to a single text file\n",
        "with open('all_extracted_texts.txt', 'w', encoding='utf-8') as f:\n",
        "    for file_name, file_data in uploaded.items():\n",
        "        image = Image.open(file_name)\n",
        "        text = pytesseract.image_to_string(image, lang='ara')\n",
        "        f.write(f\"Text from {file_name}:\\n{text}\\n\")\n",
        "        f.write('-' * 80 + '\\n')  # Adding a separator in the file for readability\n",
        "\n",
        "print(\"All texts have been processed and saved to 'all_extracted_texts.txt'.\")\n"
      ],
      "metadata": {
        "colab": {
          "base_uri": "https://localhost:8080/"
        },
        "id": "TnzGeFuQQTNH",
        "outputId": "1bcc7a57-b4a6-46b5-8727-6d790b7bdc5e"
      },
      "execution_count": null,
      "outputs": [
        {
          "output_type": "stream",
          "name": "stdout",
          "text": [
            "All texts have been processed and saved to 'all_extracted_texts.txt'.\n"
          ]
        }
      ]
    },
    {
      "cell_type": "code",
      "source": [],
      "metadata": {
        "id": "0qhA_kESQ893"
      },
      "execution_count": null,
      "outputs": []
    },
    {
      "cell_type": "code",
      "source": [
        "# Single File upload version"
      ],
      "metadata": {
        "id": "ENuzj0GHQ80X"
      },
      "execution_count": null,
      "outputs": []
    },
    {
      "cell_type": "code",
      "source": [
        "# Upload the image file\n",
        "uploaded = files.upload()"
      ],
      "metadata": {
        "colab": {
          "base_uri": "https://localhost:8080/",
          "height": 269
        },
        "id": "706-4VpwN2CU",
        "outputId": "9bbe8757-0145-4e85-d521-42c4c555bbe4"
      },
      "execution_count": null,
      "outputs": [
        {
          "output_type": "display_data",
          "data": {
            "text/plain": [
              "<IPython.core.display.HTML object>"
            ],
            "text/html": [
              "\n",
              "     <input type=\"file\" id=\"files-fdac9ddc-1621-4084-a35c-e60ff976b527\" name=\"files[]\" multiple disabled\n",
              "        style=\"border:none\" />\n",
              "     <output id=\"result-fdac9ddc-1621-4084-a35c-e60ff976b527\">\n",
              "      Upload widget is only available when the cell has been executed in the\n",
              "      current browser session. Please rerun this cell to enable.\n",
              "      </output>\n",
              "      <script>// Copyright 2017 Google LLC\n",
              "//\n",
              "// Licensed under the Apache License, Version 2.0 (the \"License\");\n",
              "// you may not use this file except in compliance with the License.\n",
              "// You may obtain a copy of the License at\n",
              "//\n",
              "//      http://www.apache.org/licenses/LICENSE-2.0\n",
              "//\n",
              "// Unless required by applicable law or agreed to in writing, software\n",
              "// distributed under the License is distributed on an \"AS IS\" BASIS,\n",
              "// WITHOUT WARRANTIES OR CONDITIONS OF ANY KIND, either express or implied.\n",
              "// See the License for the specific language governing permissions and\n",
              "// limitations under the License.\n",
              "\n",
              "/**\n",
              " * @fileoverview Helpers for google.colab Python module.\n",
              " */\n",
              "(function(scope) {\n",
              "function span(text, styleAttributes = {}) {\n",
              "  const element = document.createElement('span');\n",
              "  element.textContent = text;\n",
              "  for (const key of Object.keys(styleAttributes)) {\n",
              "    element.style[key] = styleAttributes[key];\n",
              "  }\n",
              "  return element;\n",
              "}\n",
              "\n",
              "// Max number of bytes which will be uploaded at a time.\n",
              "const MAX_PAYLOAD_SIZE = 100 * 1024;\n",
              "\n",
              "function _uploadFiles(inputId, outputId) {\n",
              "  const steps = uploadFilesStep(inputId, outputId);\n",
              "  const outputElement = document.getElementById(outputId);\n",
              "  // Cache steps on the outputElement to make it available for the next call\n",
              "  // to uploadFilesContinue from Python.\n",
              "  outputElement.steps = steps;\n",
              "\n",
              "  return _uploadFilesContinue(outputId);\n",
              "}\n",
              "\n",
              "// This is roughly an async generator (not supported in the browser yet),\n",
              "// where there are multiple asynchronous steps and the Python side is going\n",
              "// to poll for completion of each step.\n",
              "// This uses a Promise to block the python side on completion of each step,\n",
              "// then passes the result of the previous step as the input to the next step.\n",
              "function _uploadFilesContinue(outputId) {\n",
              "  const outputElement = document.getElementById(outputId);\n",
              "  const steps = outputElement.steps;\n",
              "\n",
              "  const next = steps.next(outputElement.lastPromiseValue);\n",
              "  return Promise.resolve(next.value.promise).then((value) => {\n",
              "    // Cache the last promise value to make it available to the next\n",
              "    // step of the generator.\n",
              "    outputElement.lastPromiseValue = value;\n",
              "    return next.value.response;\n",
              "  });\n",
              "}\n",
              "\n",
              "/**\n",
              " * Generator function which is called between each async step of the upload\n",
              " * process.\n",
              " * @param {string} inputId Element ID of the input file picker element.\n",
              " * @param {string} outputId Element ID of the output display.\n",
              " * @return {!Iterable<!Object>} Iterable of next steps.\n",
              " */\n",
              "function* uploadFilesStep(inputId, outputId) {\n",
              "  const inputElement = document.getElementById(inputId);\n",
              "  inputElement.disabled = false;\n",
              "\n",
              "  const outputElement = document.getElementById(outputId);\n",
              "  outputElement.innerHTML = '';\n",
              "\n",
              "  const pickedPromise = new Promise((resolve) => {\n",
              "    inputElement.addEventListener('change', (e) => {\n",
              "      resolve(e.target.files);\n",
              "    });\n",
              "  });\n",
              "\n",
              "  const cancel = document.createElement('button');\n",
              "  inputElement.parentElement.appendChild(cancel);\n",
              "  cancel.textContent = 'Cancel upload';\n",
              "  const cancelPromise = new Promise((resolve) => {\n",
              "    cancel.onclick = () => {\n",
              "      resolve(null);\n",
              "    };\n",
              "  });\n",
              "\n",
              "  // Wait for the user to pick the files.\n",
              "  const files = yield {\n",
              "    promise: Promise.race([pickedPromise, cancelPromise]),\n",
              "    response: {\n",
              "      action: 'starting',\n",
              "    }\n",
              "  };\n",
              "\n",
              "  cancel.remove();\n",
              "\n",
              "  // Disable the input element since further picks are not allowed.\n",
              "  inputElement.disabled = true;\n",
              "\n",
              "  if (!files) {\n",
              "    return {\n",
              "      response: {\n",
              "        action: 'complete',\n",
              "      }\n",
              "    };\n",
              "  }\n",
              "\n",
              "  for (const file of files) {\n",
              "    const li = document.createElement('li');\n",
              "    li.append(span(file.name, {fontWeight: 'bold'}));\n",
              "    li.append(span(\n",
              "        `(${file.type || 'n/a'}) - ${file.size} bytes, ` +\n",
              "        `last modified: ${\n",
              "            file.lastModifiedDate ? file.lastModifiedDate.toLocaleDateString() :\n",
              "                                    'n/a'} - `));\n",
              "    const percent = span('0% done');\n",
              "    li.appendChild(percent);\n",
              "\n",
              "    outputElement.appendChild(li);\n",
              "\n",
              "    const fileDataPromise = new Promise((resolve) => {\n",
              "      const reader = new FileReader();\n",
              "      reader.onload = (e) => {\n",
              "        resolve(e.target.result);\n",
              "      };\n",
              "      reader.readAsArrayBuffer(file);\n",
              "    });\n",
              "    // Wait for the data to be ready.\n",
              "    let fileData = yield {\n",
              "      promise: fileDataPromise,\n",
              "      response: {\n",
              "        action: 'continue',\n",
              "      }\n",
              "    };\n",
              "\n",
              "    // Use a chunked sending to avoid message size limits. See b/62115660.\n",
              "    let position = 0;\n",
              "    do {\n",
              "      const length = Math.min(fileData.byteLength - position, MAX_PAYLOAD_SIZE);\n",
              "      const chunk = new Uint8Array(fileData, position, length);\n",
              "      position += length;\n",
              "\n",
              "      const base64 = btoa(String.fromCharCode.apply(null, chunk));\n",
              "      yield {\n",
              "        response: {\n",
              "          action: 'append',\n",
              "          file: file.name,\n",
              "          data: base64,\n",
              "        },\n",
              "      };\n",
              "\n",
              "      let percentDone = fileData.byteLength === 0 ?\n",
              "          100 :\n",
              "          Math.round((position / fileData.byteLength) * 100);\n",
              "      percent.textContent = `${percentDone}% done`;\n",
              "\n",
              "    } while (position < fileData.byteLength);\n",
              "  }\n",
              "\n",
              "  // All done.\n",
              "  yield {\n",
              "    response: {\n",
              "      action: 'complete',\n",
              "    }\n",
              "  };\n",
              "}\n",
              "\n",
              "scope.google = scope.google || {};\n",
              "scope.google.colab = scope.google.colab || {};\n",
              "scope.google.colab._files = {\n",
              "  _uploadFiles,\n",
              "  _uploadFilesContinue,\n",
              "};\n",
              "})(self);\n",
              "</script> "
            ]
          },
          "metadata": {}
        },
        {
          "output_type": "stream",
          "name": "stdout",
          "text": [
            "Saving WhatsApp Image 2024-04-14 at 11.30.31.jpeg to WhatsApp Image 2024-04-14 at 11.30.31.jpeg\n",
            "Saving WhatsApp Image 2024-04-14 at 11.30.32 (1).jpeg to WhatsApp Image 2024-04-14 at 11.30.32 (1).jpeg\n",
            "Saving WhatsApp Image 2024-04-14 at 11.30.32.jpeg to WhatsApp Image 2024-04-14 at 11.30.32.jpeg\n",
            "Saving WhatsApp Image 2024-04-14 at 11.30.33.jpeg to WhatsApp Image 2024-04-14 at 11.30.33.jpeg\n"
          ]
        }
      ]
    },
    {
      "cell_type": "code",
      "source": [
        "# Assuming you uploaded this file and named it correctly in the dialog\n",
        "image_path = list(uploaded.keys())[0]  # Dynamically get the filename"
      ],
      "metadata": {
        "id": "Xael8U9SN4V4"
      },
      "execution_count": null,
      "outputs": []
    },
    {
      "cell_type": "code",
      "source": [
        "# Load the image\n",
        "image = Image.open(image_path)"
      ],
      "metadata": {
        "id": "xBMC6nxCN6cn"
      },
      "execution_count": null,
      "outputs": []
    },
    {
      "cell_type": "code",
      "source": [
        "# Perform OCR on the image\n",
        "text = pytesseract.image_to_string(image, lang='ara')  # Specify language if needed"
      ],
      "metadata": {
        "id": "bKIbVgGfN9_1"
      },
      "execution_count": null,
      "outputs": []
    },
    {
      "cell_type": "code",
      "source": [
        "# Display the extracted text\n",
        "print(\"Extracted Text:\")\n",
        "print(text)"
      ],
      "metadata": {
        "colab": {
          "base_uri": "https://localhost:8080/"
        },
        "id": "0TZeEvYJN_Dv",
        "outputId": "d47d3850-6de3-46d0-f565-47a612238a76"
      },
      "execution_count": null,
      "outputs": [
        {
          "output_type": "stream",
          "name": "stdout",
          "text": [
            "Extracted Text:\n",
            "- الجمهورية الجزائرية الديمقراطية الشعبية\n",
            "0 باسم الشعب الجزائري اه\n",
            "\n",
            "2\n",
            "قرار يا\n",
            "\n",
            "الفرفسة: التجارية / البحرية\n",
            "\n",
            "0 إن مجلس قضاء الجزائر بجلسته العطلنية المنعقدة بقاعة الجلسات لقصر العدالة\n",
            "09/021571 فى الخامسل من شهار سآ قنة رش( تسمه\n",
            "رقم الفهرس: 09/04015 2 برئاسة المسيد (106 اوديئة الوزية 5\n",
            "جلسه 5\n",
            "جلسة يوم: 09/05/05 0 00\n",
            ": أوشان منصور مستشارا\n",
            "5): نعيجاوي جمال نائب عام\n",
            "وبمساعدة السيد (5): جواجة عبد الحميد أمين ضبط\n",
            "\n",
            "1 صدر القرار الآتي بيانه في القضية المنشورة لديه تحت رقم09/0215\n",
            "العياضي وزناجي ب\n",
            "1 )زلعياضي_وزناجي ‎١‏ متلق\n",
            "العنوان : الساكن / بتجزئة الثانوية رقم 5 الرويبة الجزائر\n",
            "ل فلن المباشر للخصام بواسطة الأستاذ (): بن عمران ناصرالدين\n",
            "\n",
            "ضصدعم\n",
            "\n",
            "1 ): أوغليسي الحميد مستانف عليه\n",
            "العنوان : الساكن بحي الصومام عمارة 13 س رقم 10 باب الزوار\n",
            "المباشرللخصام بواسطة الأستاذ (5): باشي محمد\n",
            "\n",
            "** بين وقانع الدعوى **\n",
            "\n",
            "- بموجب عريضة مسجلة بكتابة ضبط المجلس بتاريخ 2009/03/03 تحت رقم 09/2157\n",
            "قدم السيد لعياضي وزناجي بواسطة محاميه الأستاذ بن عمران ناصر الدين طعنا بالإستئناف ة\n",
            "\"الحكم الصادر عن الفرع التجاري لمحكمة الحراش في 2008/10/07 تحت رقم 08/4013\n",
            "القاضي برفض الدعوى لعدم التأسيس مكلفا لهذا الإجراء للسيد أوغليسي الحميد.\n",
            "\n",
            "- جاء بعريضته تأسيسه والمستائف عليه لشركة ذات مسؤولية محدودة المسماة شركة التكوين\n",
            "تحليل ظروف العمل بموجب عقد تا. ي في 1999/11/10 تنشط في مجال إنجاز\n",
            "\n",
            "تقنية لتحسين ظروف العمل بد أنشاطها منذ تاريخ\n",
            "د ة معتبرة على نشاط الشركة وقعت نزاعات فيما بين الطرفين\n",
            "قضائية حالت دون عقد إجتماعات بينهما ودون السير العادى للشركة وهي متوقفة عن\n",
            "اطها منذ 2001 بداية النزاع بينهما وإلى يومنا هذا .\n",
            "\n",
            "د وعلى عكس ماذهب إليه قاضي الدرجة الاولى فإنه مؤسس في إلتماس حل الشركة طبقا للمادة\n",
            "589 و 705 قءت واحكام المادتين 25 و 26 من القانون الأساسي للشركة والأسباب المذكورة\n",
            "أعلاه مبزرة وكافية لحل الشركة ولم يبد المستائف عليه امام المحكمة معارضته على طلب حلي\n",
            "ملتمسا إثبات له حججه وبالتالي إلغاء الحكم المستانف والقضاء من جديد بالقضاء بحل الشركة\n",
            "المشار لها أعلاه و أي مصفي من غير الشركاء تسند له مهمة تصفية الشركة وكل الأعمال\n",
            "التى تتصل بالتصفية طبقا لأحكام القانون التجاري والقانون الأساسي للشركة ولا سيما المادة 26\n",
            "امنه\n",
            "- وأجاب المستانف عليه بواسطة محاميه الاستاذ باشي محمد دافعا أنه لمخالفة المستانف شروط\n",
            "\n",
            ": : 09/002157 0\n",
            "الفهرس: 09/04015 صفحة 1 من 4\n",
            "\n",
            " \n",
            "\f\n"
          ]
        }
      ]
    },
    {
      "cell_type": "code",
      "source": [
        "# Optional: Save the extracted text to a text file\n",
        "with open('extracted_text.txt', 'w', encoding='utf-8') as file:\n",
        "    file.write(text)\n",
        "print(\"Text successfully saved to 'extracted_text.txt'.\")"
      ],
      "metadata": {
        "colab": {
          "base_uri": "https://localhost:8080/"
        },
        "id": "dtAqY6-YOBVh",
        "outputId": "50d5fbd6-691b-45d1-e1ea-5208f84f5a89"
      },
      "execution_count": null,
      "outputs": [
        {
          "output_type": "stream",
          "name": "stdout",
          "text": [
            "Text successfully saved to 'extracted_text.txt'.\n"
          ]
        }
      ]
    },
    {
      "cell_type": "code",
      "execution_count": null,
      "metadata": {
        "id": "4bweZ3a-J1Xz"
      },
      "outputs": [],
      "source": [
        "\n"
      ]
    }
  ]
}